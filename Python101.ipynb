{
  "nbformat": 4,
  "nbformat_minor": 0,
  "metadata": {
    "colab": {
      "name": "Python101.ipynb",
      "provenance": [],
      "toc_visible": true,
      "authorship_tag": "ABX9TyPmhbL3PM5BcrhxtisdnpX9",
      "include_colab_link": true
    },
    "kernelspec": {
      "name": "python3",
      "display_name": "Python 3"
    },
    "language_info": {
      "name": "python"
    }
  },
  "cells": [
    {
      "cell_type": "markdown",
      "metadata": {
        "id": "view-in-github",
        "colab_type": "text"
      },
      "source": [
        "<a href=\"https://colab.research.google.com/github/Supathatkh/data_viz_2022/blob/main/Python101.ipynb\" target=\"_parent\"><img src=\"https://colab.research.google.com/assets/colab-badge.svg\" alt=\"Open In Colab\"/></a>"
      ]
    },
    {
      "cell_type": "markdown",
      "source": [
        "ข้อความในช่อง text เป็นภาษา Markdown"
      ],
      "metadata": {
        "id": "Ge7s-eI-JbJH"
      }
    },
    {
      "cell_type": "markdown",
      "source": [
        "# การจัดการในการแสดงผล\n",
        "\n"
      ],
      "metadata": {
        "id": "De4TLJuFKAEA"
      }
    },
    {
      "cell_type": "markdown",
      "source": [
        "## ข้อความ (string)\n",
        "### test heading 3"
      ],
      "metadata": {
        "id": "3c8zVBfBOsBv"
      }
    },
    {
      "cell_type": "code",
      "execution_count": 6,
      "metadata": {
        "colab": {
          "base_uri": "https://localhost:8080/",
          "height": 36
        },
        "id": "9wd9OSTiItkq",
        "outputId": "cf9324bc-6e30-4e6e-8339-f80c2ba8e30d"
      },
      "outputs": [
        {
          "output_type": "execute_result",
          "data": {
            "application/vnd.google.colaboratory.intrinsic+json": {
              "type": "string"
            },
            "text/plain": [
              "'สถิติ'"
            ]
          },
          "metadata": {},
          "execution_count": 6
        }
      ],
      "source": [
        "'สถิติ' # 'quote"
      ]
    },
    {
      "cell_type": "code",
      "source": [
        "\"สถิติ\" # \"quote"
      ],
      "metadata": {
        "colab": {
          "base_uri": "https://localhost:8080/",
          "height": 36
        },
        "id": "s8pqWQVTLm7X",
        "outputId": "0735139f-955d-4cbd-e416-1a1374338cd2"
      },
      "execution_count": 3,
      "outputs": [
        {
          "output_type": "execute_result",
          "data": {
            "application/vnd.google.colaboratory.intrinsic+json": {
              "type": "string"
            },
            "text/plain": [
              "'สถิติ'"
            ]
          },
          "metadata": {},
          "execution_count": 3
        }
      ]
    },
    {
      "cell_type": "code",
      "source": [
        "1+3"
      ],
      "metadata": {
        "colab": {
          "base_uri": "https://localhost:8080/"
        },
        "id": "OSN9YoNRMNPQ",
        "outputId": "e436ab24-ec0e-4398-a30f-4e5c5b2f50ac"
      },
      "execution_count": 8,
      "outputs": [
        {
          "output_type": "execute_result",
          "data": {
            "text/plain": [
              "4"
            ]
          },
          "metadata": {},
          "execution_count": 8
        }
      ]
    },
    {
      "cell_type": "code",
      "source": [
        "'1' + '3' # รวมข้อความเข้าด้วยกันได้"
      ],
      "metadata": {
        "colab": {
          "base_uri": "https://localhost:8080/",
          "height": 36
        },
        "id": "fVdaFUZQMQLg",
        "outputId": "e2bdfaf3-0d3f-413b-972f-3d3aa6fd74ed"
      },
      "execution_count": 7,
      "outputs": [
        {
          "output_type": "execute_result",
          "data": {
            "application/vnd.google.colaboratory.intrinsic+json": {
              "type": "string"
            },
            "text/plain": [
              "'13'"
            ]
          },
          "metadata": {},
          "execution_count": 7
        }
      ]
    },
    {
      "cell_type": "code",
      "source": [
        "  1-3"
      ],
      "metadata": {
        "colab": {
          "base_uri": "https://localhost:8080/"
        },
        "id": "KD-r9OYqMXoj",
        "outputId": "018e981c-725b-4b0b-b956-53e75e148f5e"
      },
      "execution_count": 9,
      "outputs": [
        {
          "output_type": "execute_result",
          "data": {
            "text/plain": [
              "-2"
            ]
          },
          "metadata": {},
          "execution_count": 9
        }
      ]
    },
    {
      "cell_type": "code",
      "source": [
        "'1' - '3' # ไม่สามารถนำข้อความมาลบกันได้"
      ],
      "metadata": {
        "colab": {
          "base_uri": "https://localhost:8080/",
          "height": 172
        },
        "id": "GS0qttJtMfQY",
        "outputId": "3059ea26-5d21-4e43-defa-4d217eefab8c"
      },
      "execution_count": 11,
      "outputs": [
        {
          "output_type": "error",
          "ename": "TypeError",
          "evalue": "ignored",
          "traceback": [
            "\u001b[0;31m---------------------------------------------------------------------------\u001b[0m",
            "\u001b[0;31mTypeError\u001b[0m                                 Traceback (most recent call last)",
            "\u001b[0;32m<ipython-input-11-472db36c04f9>\u001b[0m in \u001b[0;36m<module>\u001b[0;34m()\u001b[0m\n\u001b[0;32m----> 1\u001b[0;31m \u001b[0;34m'1'\u001b[0m \u001b[0;34m-\u001b[0m \u001b[0;34m'3'\u001b[0m \u001b[0;31m# ไม่สามารถนำข้อความมาลบกันได้\u001b[0m\u001b[0;34m\u001b[0m\u001b[0;34m\u001b[0m\u001b[0m\n\u001b[0m",
            "\u001b[0;31mTypeError\u001b[0m: unsupported operand type(s) for -: 'str' and 'str'"
          ]
        }
      ]
    },
    {
      "cell_type": "markdown",
      "source": [
        "## print(ข้อความ)"
      ],
      "metadata": {
        "id": "Myn2t6KoNAUe"
      }
    },
    {
      "cell_type": "code",
      "source": [
        "print(\"แสดงความคิดเห็น\")"
      ],
      "metadata": {
        "colab": {
          "base_uri": "https://localhost:8080/"
        },
        "id": "FAcuGawFNH0-",
        "outputId": "535dd3fc-6c8a-4456-d5f4-f476dbf2b162"
      },
      "execution_count": 12,
      "outputs": [
        {
          "output_type": "stream",
          "name": "stdout",
          "text": [
            "แสดงความคิดเห็น\n"
          ]
        }
      ]
    },
    {
      "cell_type": "markdown",
      "source": [
        "# ตัวแปร (varibles)\n"
      ],
      "metadata": {
        "id": "RTV6F3BTKiow"
      }
    },
    {
      "cell_type": "code",
      "source": [
        "vartest1 = 2 + 1"
      ],
      "metadata": {
        "id": "RdEWAyewOL2v"
      },
      "execution_count": 15,
      "outputs": []
    },
    {
      "cell_type": "code",
      "source": [
        "vartest1"
      ],
      "metadata": {
        "colab": {
          "base_uri": "https://localhost:8080/"
        },
        "id": "MHqx3VYBOQdL",
        "outputId": "94d3b34c-4da4-48a0-d595-38ce5083deb4"
      },
      "execution_count": 18,
      "outputs": [
        {
          "output_type": "execute_result",
          "data": {
            "text/plain": [
              "3"
            ]
          },
          "metadata": {},
          "execution_count": 18
        }
      ]
    },
    {
      "cell_type": "code",
      "source": [
        "print(vartest1)"
      ],
      "metadata": {
        "colab": {
          "base_uri": "https://localhost:8080/"
        },
        "id": "CMDKXM1POS0S",
        "outputId": "e6a88dd3-4c69-43fd-dd05-bafe5e789a19"
      },
      "execution_count": 19,
      "outputs": [
        {
          "output_type": "stream",
          "name": "stdout",
          "text": [
            "3\n"
          ]
        }
      ]
    },
    {
      "cell_type": "markdown",
      "source": [
        "## ข้อกำหนดในการตั้งชื่อตัวแปร\n",
        "\n",
        "1.   ตั้งชื่อให้มีความหมาย\n",
        "2.   ต้องเป็นภาษาอังกฤษ\n",
        "3.   ใช้เลขผสมกับตัวหนังสือได้ แต่ห้ามขึ้นต้นด้วยตัวเลข\n",
        "4.   ห้ามมีเว้นวรรคในชื่อตัวแปร\n",
        "5.   ตัวใหญ่ตัวเล็กมีค่าไม่เท่ากัน\n",
        "\n",
        "\n",
        "\n"
      ],
      "metadata": {
        "id": "NzS8ASbQPCAv"
      }
    },
    {
      "cell_type": "code",
      "source": [
        "1a  = 7 #ไม่ผ่านข้อกำหนดข้อ3"
      ],
      "metadata": {
        "colab": {
          "base_uri": "https://localhost:8080/",
          "height": 135
        },
        "id": "6EvcyL1ZPli-",
        "outputId": "c2d36abd-d8e2-4887-a6c7-66d20ab5805f"
      },
      "execution_count": 20,
      "outputs": [
        {
          "output_type": "error",
          "ename": "SyntaxError",
          "evalue": "ignored",
          "traceback": [
            "\u001b[0;36m  File \u001b[0;32m\"<ipython-input-20-874f4a66c166>\"\u001b[0;36m, line \u001b[0;32m1\u001b[0m\n\u001b[0;31m    1a  = 7 #ไม่ผ่านข้อกำหนดข้อ3\u001b[0m\n\u001b[0m     ^\u001b[0m\n\u001b[0;31mSyntaxError\u001b[0m\u001b[0;31m:\u001b[0m invalid syntax\n"
          ]
        }
      ]
    },
    {
      "cell_type": "code",
      "source": [
        "variable a = 1 #ไม่ผ่านข้อกำหนดข้อ4"
      ],
      "metadata": {
        "colab": {
          "base_uri": "https://localhost:8080/",
          "height": 135
        },
        "id": "21YAecODPur_",
        "outputId": "f4dd884d-688f-462f-ad54-f6b5303dd659"
      },
      "execution_count": 21,
      "outputs": [
        {
          "output_type": "error",
          "ename": "SyntaxError",
          "evalue": "ignored",
          "traceback": [
            "\u001b[0;36m  File \u001b[0;32m\"<ipython-input-21-11caea076af7>\"\u001b[0;36m, line \u001b[0;32m1\u001b[0m\n\u001b[0;31m    variable a = 1 #ไม่ผ่านข้อกำหนดข้อ1\u001b[0m\n\u001b[0m             ^\u001b[0m\n\u001b[0;31mSyntaxError\u001b[0m\u001b[0;31m:\u001b[0m invalid syntax\n"
          ]
        }
      ]
    },
    {
      "cell_type": "code",
      "source": [
        ""
      ],
      "metadata": {
        "id": "5k0pkZwCP6po"
      },
      "execution_count": null,
      "outputs": []
    },
    {
      "cell_type": "markdown",
      "source": [
        "## Advance Printing\n",
        "เราสามารถ print ตัวแปร ร่วมกับข้อความได้\n",
        "\n",
        "''' python\n",
        "print(f'ข้อความ{ตัวแปร}')\n",
        "'''"
      ],
      "metadata": {
        "id": "Ey8BA-r6QFWB"
      }
    },
    {
      "cell_type": "code",
      "source": [
        "print(f'หนึ่ง บวก สอง (1+2) เท่ากับ สาม ({1+2})' ) # { } curly bracket"
      ],
      "metadata": {
        "colab": {
          "base_uri": "https://localhost:8080/"
        },
        "id": "cSov3vkhQ4WA",
        "outputId": "d0ade8df-94f0-45ce-bdb3-69b06b3a6448"
      },
      "execution_count": 23,
      "outputs": [
        {
          "output_type": "stream",
          "name": "stdout",
          "text": [
            "หนึ่ง บวก สอง (1+2) เท่ากับ สาม (3)\n"
          ]
        }
      ]
    },
    {
      "cell_type": "code",
      "source": [
        "a = 1\n",
        "b = 2\n",
        "print(f'{a} บวก {b} เท่ากับ  {a+b}' ) # { } # รับ input เข้าในตัวแปร a และ b"
      ],
      "metadata": {
        "colab": {
          "base_uri": "https://localhost:8080/"
        },
        "id": "smHmjbflTJHW",
        "outputId": "495cf29c-c2a5-44ba-8341-8c66d2a5faaa"
      },
      "execution_count": 31,
      "outputs": [
        {
          "output_type": "stream",
          "name": "stdout",
          "text": [
            "1 บวก 2 เท่ากับ  3\n"
          ]
        }
      ]
    },
    {
      "cell_type": "code",
      "source": [
        "a = 7\n",
        "b = 8\n",
        "print(f'{a} +  {b} = {a+b}' ) # รับ input เข้าในตัวแปร a และ b"
      ],
      "metadata": {
        "colab": {
          "base_uri": "https://localhost:8080/"
        },
        "id": "p7rbEYY-Rma_",
        "outputId": "26395787-4b05-4d22-f1a7-84415fe5dada"
      },
      "execution_count": 33,
      "outputs": [
        {
          "output_type": "stream",
          "name": "stdout",
          "text": [
            "7 +  8 = 15\n"
          ]
        }
      ]
    },
    {
      "cell_type": "markdown",
      "source": [
        "## ชนิดของตัวแปร"
      ],
      "metadata": {
        "id": "U4K1eDoeUbHN"
      }
    },
    {
      "cell_type": "markdown",
      "source": [
        "### char(acter) (ตัวอักษร)\n"
      ],
      "metadata": {
        "id": "gdtyY4ttUvP-"
      }
    },
    {
      "cell_type": "code",
      "source": [
        "x = 'Ch'\n",
        "y = 'arcter'"
      ],
      "metadata": {
        "id": "N-QQ2MOlVJsx"
      },
      "execution_count": 62,
      "outputs": []
    },
    {
      "cell_type": "code",
      "source": [
        "##print(f' x={x} y={ฺy} , then {x} + {y} = {x+y}' )"
      ],
      "metadata": {
        "id": "ztPEzoXDdGtG"
      },
      "execution_count": 66,
      "outputs": []
    },
    {
      "cell_type": "code",
      "source": [
        "A = 'c'\n",
        "B = 'b'\n",
        "print(A+B)"
      ],
      "metadata": {
        "colab": {
          "base_uri": "https://localhost:8080/"
        },
        "id": "wkYNYs12VTl3",
        "outputId": "17b279e0-931e-4bff-9fab-ec95bb257bb5"
      },
      "execution_count": 35,
      "outputs": [
        {
          "output_type": "stream",
          "name": "stdout",
          "text": [
            "cb\n"
          ]
        }
      ]
    },
    {
      "cell_type": "markdown",
      "source": [
        "### int(erger) (จำนวนเต็ม)"
      ],
      "metadata": {
        "id": "Y2AW6ulaWlOZ"
      }
    },
    {
      "cell_type": "code",
      "source": [
        "int_a = 7\n",
        "int_b = 8\n",
        "int_c = 5\n",
        "int_d = int_a + int_b - int_c\n",
        "print(int_d)"
      ],
      "metadata": {
        "colab": {
          "base_uri": "https://localhost:8080/"
        },
        "id": "wsBCbcJCWu8k",
        "outputId": "7f55f491-c139-4d67-8423-735583631b5d"
      },
      "execution_count": 42,
      "outputs": [
        {
          "output_type": "stream",
          "name": "stdout",
          "text": [
            "10\n"
          ]
        }
      ]
    },
    {
      "cell_type": "markdown",
      "source": [
        "### Float (จำนวนจริง ทศนิยม)\n"
      ],
      "metadata": {
        "id": "7aBRImOMXrGB"
      }
    },
    {
      "cell_type": "code",
      "source": [
        "fl_a  = 7.\n",
        "fl_b  = 2.571\n",
        "print(fl_a)\n",
        "print(fl_b)"
      ],
      "metadata": {
        "colab": {
          "base_uri": "https://localhost:8080/"
        },
        "id": "zPN2Gj4LX1Tp",
        "outputId": "cf62b369-afda-45e8-a454-84937b75328e"
      },
      "execution_count": 51,
      "outputs": [
        {
          "output_type": "stream",
          "name": "stdout",
          "text": [
            "7.0\n",
            "2.571\n"
          ]
        }
      ]
    },
    {
      "cell_type": "markdown",
      "source": [
        "### Boolean (ตัวแปรที่มีค่า True หรือ False)"
      ],
      "metadata": {
        "id": "-eymRf0eZxe1"
      }
    },
    {
      "cell_type": "code",
      "source": [
        "b_T = True\n",
        "b_F = False\n",
        "print(b_F)\n",
        "print(b_T)"
      ],
      "metadata": {
        "colab": {
          "base_uri": "https://localhost:8080/"
        },
        "id": "1-qXArhjX1sQ",
        "outputId": "5b2155ec-57c6-4482-c85f-4f1560551025"
      },
      "execution_count": 54,
      "outputs": [
        {
          "output_type": "stream",
          "name": "stdout",
          "text": [
            "False\n",
            "True\n"
          ]
        }
      ]
    },
    {
      "cell_type": "markdown",
      "source": [
        "### Complex number(จำนวนเชิงซ้อน)\n"
      ],
      "metadata": {
        "id": "UL2WBJUBascN"
      }
    },
    {
      "cell_type": "code",
      "source": [
        "x = 1 + 2j\n"
      ],
      "metadata": {
        "id": "hC-MHJSSbiAv"
      },
      "execution_count": 59,
      "outputs": []
    },
    {
      "cell_type": "markdown",
      "source": [
        "### เราสามารถตรวจสอบชนิดของตัวแปรด้วยคำสั่ง type()\n"
      ],
      "metadata": {
        "id": "Qt3NFw1VcFYA"
      }
    },
    {
      "cell_type": "code",
      "source": [
        "print(f'ตัวอักษร b_T ค่าคือ {b_T} ชนิด {type(b_T)}')"
      ],
      "metadata": {
        "colab": {
          "base_uri": "https://localhost:8080/"
        },
        "id": "2IP9at1QcQ88",
        "outputId": "34763c24-2e97-401a-f3cc-8e37e240bad0"
      },
      "execution_count": 60,
      "outputs": [
        {
          "output_type": "stream",
          "name": "stdout",
          "text": [
            "ตัวอักษร b_T ค่าคือ True ชนิด <class 'bool'>\n"
          ]
        }
      ]
    },
    {
      "cell_type": "code",
      "source": [
        "print(f'ตัวอักษร x ค่าคือ {x} ชนิด {type(x)}')"
      ],
      "metadata": {
        "colab": {
          "base_uri": "https://localhost:8080/"
        },
        "id": "ipmJXRDBdiyO",
        "outputId": "fb963123-ef05-487e-8f02-20e6bd2b3be2"
      },
      "execution_count": 64,
      "outputs": [
        {
          "output_type": "stream",
          "name": "stdout",
          "text": [
            "ตัวอักษร x ค่าคือ Ch ชนิด <class 'str'>\n"
          ]
        }
      ]
    },
    {
      "cell_type": "code",
      "source": [
        "print(f'ตัวอักษร y ค่าคือ {y} ชนิด {type(y)}')"
      ],
      "metadata": {
        "colab": {
          "base_uri": "https://localhost:8080/"
        },
        "id": "Wo8lFjWRdjae",
        "outputId": "97d26df4-ea26-4662-85d9-d89e7b7f4a2e"
      },
      "execution_count": 65,
      "outputs": [
        {
          "output_type": "stream",
          "name": "stdout",
          "text": [
            "ตัวอักษร y ค่าคือ arcter ชนิด <class 'str'>\n"
          ]
        }
      ]
    },
    {
      "cell_type": "markdown",
      "source": [
        "### การแปลงชนิดของตัวแปร (Varible Casting)\n"
      ],
      "metadata": {
        "id": "6QCD1Fy9d_JI"
      }
    },
    {
      "cell_type": "code",
      "source": [
        "str_a = '6'\n",
        "str_b = '7'\n",
        "fl_a  = 5.561\n",
        "fl_b  = 2.47\n",
        "str_a2int = int(str_a)\n",
        "str_b2int = int(str_b)\n",
        "fl_aint  =int(fl_a)\n",
        "fl_bint  =int(fl_b)\n",
        "print(f'ตัวแปร str_a2int ค่าคือ {str_a2int} ชนิดคือ {type(str_a2int)}')\n",
        "print(f'ตัวแปร str_b2int ค่าคือ {str_b2int} ชนิดคือ {type(str_b2int)}')\n",
        "print(f'ตัวแปร fl_aint ค่าคือ {fl_aint} ชนิดคือ {type(fl_aint)}')\n",
        "print(f'ตัวแปร fl_aint ค่าคือ {fl_bint} ชนิดคือ {type(fl_bint)}')"
      ],
      "metadata": {
        "colab": {
          "base_uri": "https://localhost:8080/"
        },
        "id": "1wA4bIpZeM0w",
        "outputId": "26a6fdd9-4edb-4466-ef6c-b9e7308d3a09"
      },
      "execution_count": 70,
      "outputs": [
        {
          "output_type": "stream",
          "name": "stdout",
          "text": [
            "ตัวแปร str_a2int ค่าคือ 6 ชนิดคือ <class 'int'>\n",
            "ตัวแปร str_b2int ค่าคือ 7 ชนิดคือ <class 'int'>\n",
            "ตัวแปร fl_aint ค่าคือ 5 ชนิดคือ <class 'int'>\n",
            "ตัวแปร fl_aint ค่าคือ 2 ชนิดคือ <class 'int'>\n"
          ]
        }
      ]
    },
    {
      "cell_type": "markdown",
      "source": [
        "## Operation เอาตัวแปรสองตัวมาทำอะไรกัน\n"
      ],
      "metadata": {
        "id": "PAMd5kjPgJiK"
      }
    },
    {
      "cell_type": "markdown",
      "source": [
        "### Operator (บวก (+),ลบ (-),คูณ (*),หาร (/),modulo (%),and (&),or (|))"
      ],
      "metadata": {
        "id": "eGhI9ozNgSDV"
      }
    },
    {
      "cell_type": "code",
      "source": [
        "fl_a + fl_b\n",
        "fl_a % 2\n",
        "print(fl_a + fl_b)\n",
        "print(fl_a%2)"
      ],
      "metadata": {
        "colab": {
          "base_uri": "https://localhost:8080/"
        },
        "id": "z773mkSBgO7F",
        "outputId": "0b5ec97d-811d-42db-a0ae-4e5e1bdb3a39"
      },
      "execution_count": 73,
      "outputs": [
        {
          "output_type": "stream",
          "name": "stdout",
          "text": [
            "8.031\n",
            "1.561\n"
          ]
        }
      ]
    },
    {
      "cell_type": "code",
      "source": [
        "int_a / int_b"
      ],
      "metadata": {
        "colab": {
          "base_uri": "https://localhost:8080/"
        },
        "id": "ns1F0lufhV30",
        "outputId": "941e54e8-0f09-4a52-b949-aa883956b267"
      },
      "execution_count": 74,
      "outputs": [
        {
          "output_type": "execute_result",
          "data": {
            "text/plain": [
              "0.875"
            ]
          },
          "metadata": {},
          "execution_count": 74
        }
      ]
    },
    {
      "cell_type": "code",
      "source": [
        "int(int_a / int_b)"
      ],
      "metadata": {
        "colab": {
          "base_uri": "https://localhost:8080/"
        },
        "id": "4jOOEQ4dhV2D",
        "outputId": "86d6b958-dde6-4007-ceef-bd619fe09301"
      },
      "execution_count": 75,
      "outputs": [
        {
          "output_type": "execute_result",
          "data": {
            "text/plain": [
              "0"
            ]
          },
          "metadata": {},
          "execution_count": 75
        }
      ]
    },
    {
      "cell_type": "code",
      "source": [
        "flase & flase"
      ],
      "metadata": {
        "colab": {
          "base_uri": "https://localhost:8080/",
          "height": 172
        },
        "id": "LE6eTVBDhVzG",
        "outputId": "705ddfc0-d80f-4d88-86c3-b1628ec04656"
      },
      "execution_count": 76,
      "outputs": [
        {
          "output_type": "error",
          "ename": "NameError",
          "evalue": "ignored",
          "traceback": [
            "\u001b[0;31m---------------------------------------------------------------------------\u001b[0m",
            "\u001b[0;31mNameError\u001b[0m                                 Traceback (most recent call last)",
            "\u001b[0;32m<ipython-input-76-f352df20add6>\u001b[0m in \u001b[0;36m<module>\u001b[0;34m()\u001b[0m\n\u001b[0;32m----> 1\u001b[0;31m \u001b[0mFlase\u001b[0m \u001b[0;34m&\u001b[0m \u001b[0mFlase\u001b[0m\u001b[0;34m\u001b[0m\u001b[0;34m\u001b[0m\u001b[0m\n\u001b[0m",
            "\u001b[0;31mNameError\u001b[0m: name 'Flase' is not defined"
          ]
        }
      ]
    }
  ]
}